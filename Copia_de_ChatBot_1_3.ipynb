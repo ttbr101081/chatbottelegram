{
  "cells": [
    {
      "cell_type": "markdown",
      "metadata": {
        "id": "view-in-github",
        "colab_type": "text"
      },
      "source": [
        "<a href=\"https://colab.research.google.com/github/ttbr101081/chatbottelegram/blob/main/Copia_de_ChatBot_1_3.ipynb\" target=\"_parent\"><img src=\"https://colab.research.google.com/assets/colab-badge.svg\" alt=\"Open In Colab\"/></a>"
      ]
    },
    {
      "cell_type": "code",
      "execution_count": null,
      "metadata": {
        "id": "L36c7LEBqRZe",
        "outputId": "8a20f637-9f16-459c-cc84-ea368d8c7b59",
        "colab": {
          "base_uri": "https://localhost:8080/"
        }
      },
      "outputs": [
        {
          "output_type": "stream",
          "name": "stdout",
          "text": [
            "Looking in indexes: https://pypi.org/simple, https://us-python.pkg.dev/colab-wheels/public/simple/\n",
            "Requirement already satisfied: python-telegram-bot in /usr/local/lib/python3.7/dist-packages (13.12)\n",
            "Requirement already satisfied: cachetools==4.2.2 in /usr/local/lib/python3.7/dist-packages (from python-telegram-bot) (4.2.2)\n",
            "Requirement already satisfied: tornado>=6.1 in /usr/local/lib/python3.7/dist-packages (from python-telegram-bot) (6.1)\n",
            "Requirement already satisfied: certifi in /usr/local/lib/python3.7/dist-packages (from python-telegram-bot) (2022.5.18.1)\n",
            "Requirement already satisfied: pytz>=2018.6 in /usr/local/lib/python3.7/dist-packages (from python-telegram-bot) (2022.1)\n",
            "Requirement already satisfied: APScheduler==3.6.3 in /usr/local/lib/python3.7/dist-packages (from python-telegram-bot) (3.6.3)\n",
            "Requirement already satisfied: six>=1.4.0 in /usr/local/lib/python3.7/dist-packages (from APScheduler==3.6.3->python-telegram-bot) (1.15.0)\n",
            "Requirement already satisfied: tzlocal>=1.2 in /usr/local/lib/python3.7/dist-packages (from APScheduler==3.6.3->python-telegram-bot) (1.5.1)\n",
            "Requirement already satisfied: setuptools>=0.7 in /usr/local/lib/python3.7/dist-packages (from APScheduler==3.6.3->python-telegram-bot) (57.4.0)\n"
          ]
        }
      ],
      "source": [
        "!pip install python-telegram-bot --upgrade  #instalar python telegram bot"
      ]
    },
    {
      "cell_type": "code",
      "execution_count": null,
      "metadata": {
        "id": "Z5lAkkMqCay3"
      },
      "outputs": [],
      "source": [
        "import random\n",
        "import nltk\n",
        "import json   #importar libreria para leer archivos json - JavaScript Object Notation\n",
        "from sklearn.model_selection import train_test_split # división en una parte para entrenar y otra para realizar pruebas\n",
        "from sklearn.feature_extraction.text import CountVectorizer, TfidfVectorizer #vectorizer\n",
        "from sklearn.linear_model import LogisticRegression  # clasificador\n",
        "from sklearn.ensemble import RandomForestClassifier"
      ]
    },
    {
      "cell_type": "code",
      "execution_count": null,
      "metadata": {
        "id": "LfDdoYeuCY4U"
      },
      "outputs": [],
      "source": [
        "def clean(text):\n",
        "  texto_limpio=''\n",
        "  for ch in text.lower():\n",
        "    if ch in 'abcdefghijklmnopqrstuvwxyz':\n",
        "       texto_limpio = texto_limpio + ch\n",
        "  return texto_limpio"
      ]
    },
    {
      "cell_type": "code",
      "execution_count": null,
      "metadata": {
        "id": "nn5k0RUBRmab"
      },
      "outputs": [],
      "source": [
        "with open('/content/BOT_CONFIG.json','r') as f:\n",
        "   BOT_CONFIG = json.load(f)\n",
        "\n",
        "#with open('/content/BOT_CONFIG.json','w') as f:     # código para grabar/guardar los cambios realizados en el file json\n",
        " #   json.dump(BOT_CONFIG,f)"
      ]
    },
    {
      "cell_type": "code",
      "execution_count": null,
      "metadata": {
        "colab": {
          "base_uri": "https://localhost:8080/"
        },
        "id": "kO57F2mkd5qv",
        "outputId": "6a0614e8-a3e2-49f7-8a46-eb9802f67981"
      },
      "outputs": [
        {
          "output_type": "execute_result",
          "data": {
            "text/plain": [
              "(10, 10)"
            ]
          },
          "metadata": {},
          "execution_count": 5
        }
      ],
      "source": [
        "# aplicación  de machine learning al chatbot\n",
        "corpus = []\n",
        "y = []\n",
        "for intent in BOT_CONFIG['intents'].keys():\n",
        "      for example in BOT_CONFIG['intents'][intent]['examples']:\n",
        "        corpus.append(example)  # texto en examples\n",
        "        y.append(intent)   # texto de los keys\n",
        "len(corpus), len(y)  # lista de textos y lista de intents ordenados\n",
        "# se agrega para mejorar las respuestas del BOT, dividiendo el BOT_CONFIG en una parte para el aprendizaje y otra para testear"
      ]
    },
    {
      "cell_type": "code",
      "execution_count": null,
      "metadata": {
        "colab": {
          "base_uri": "https://localhost:8080/"
        },
        "id": "EN2p06fGulB7",
        "outputId": "161b8e5c-7670-4c12-950d-50a84d37ebaa"
      },
      "outputs": [
        {
          "output_type": "stream",
          "name": "stdout",
          "text": [
            "189\n"
          ]
        }
      ],
      "source": [
        "corpus_train, corpus_test, y_train, y_test = train_test_split( corpus, y, test_size = 0.2, random_state=42)\n",
        "# --------------------------\n",
        "\n",
        "#vectorizer = CountVectorizer()\n",
        "# mejorar el score utilizando las opciones de CountVectorizer()\n",
        "#vectorizer = CountVectorizer(ngram_range=(1,5))  \n",
        "# ngram_range permite utilizar combinaciones de palabras no solo palabras\n",
        "vectorizer = CountVectorizer(ngram_range=(1,5), analyzer= 'char_wb') # analizar por simbolos en vez de por palabras; analyzer\n",
        "# utilizar otro Vectorizer\n",
        "#from sklearn.feature_extraction.text import TfidfVectorizer\n",
        "#vectorizer = TfidfVectorizer(ngram_range = (1,5), analyzer= 'char_wb')\n",
        "X_train = vectorizer.fit_transform(corpus_train)\n",
        "X_test = vectorizer.transform(corpus_test)\n",
        "print(len(vectorizer.get_feature_names_out())) # longitud del diccionario\n",
        "#vectorizer.get_feature_names_out()\n",
        "#print(X.toarray())  # imprimir la matriz de coincidencias "
      ]
    },
    {
      "cell_type": "code",
      "execution_count": null,
      "metadata": {
        "colab": {
          "base_uri": "https://localhost:8080/"
        },
        "id": "kp7sFn7rRb5Q",
        "outputId": "31784b85-66e4-4a8e-c959-56ad7e2b5d70"
      },
      "outputs": [
        {
          "output_type": "execute_result",
          "data": {
            "text/plain": [
              "(1.0, 1.0)"
            ]
          },
          "metadata": {},
          "execution_count": 7
        }
      ],
      "source": [
        "# busqueda de un clasificador para machine learning, p.e.  regresión logistica buscar \"LogisticRegression\"\n",
        "\n",
        "#model = LogisticRegression()\n",
        "# mejorar el modelo de regresión logistica, C=5  obliga aprender más al modelo, 200 iteraciones de aprendizaje\n",
        "#model= LogisticRegression(C=5, max_iter=200)\n",
        "# utilizar otro clasificador busqueda \"classifier\"\n",
        "model = RandomForestClassifier(n_estimators=300)\n",
        "model.fit(X_train, y_train) # se entrena el modelo en la parte de entrenamiento (test)\n",
        "model.score(X_test, y_test) , model.score(X_train, y_train)  # comprobación del modelo utilizando el test y el texto\n",
        "#model.predict(vectorizer.transform(['que']))  # comprobación que el modelo aprendio\n"
      ]
    },
    {
      "cell_type": "code",
      "execution_count": null,
      "metadata": {
        "id": "9btxdzyCkbHL"
      },
      "outputs": [],
      "source": [
        "#with open('/content/vectorizer.pickle','wb') as f:\n",
        "# pickle.dump(vectorizer,f)"
      ]
    },
    {
      "cell_type": "code",
      "execution_count": null,
      "metadata": {
        "id": "P27uCcOhQYkl"
      },
      "outputs": [],
      "source": [
        "def get_intent(text):\n",
        "    for intent in BOT_CONFIG['intents'].keys():\n",
        "      for example in BOT_CONFIG['intents'][intent]['examples']:\n",
        "        cleaned_example = clean(example) \n",
        "        texto_limpio = clean(text)\n",
        "        if nltk.edit_distance(cleaned_example, texto_limpio) / max(len(cleaned_example),len(texto_limpio)) < 0.4:\n",
        "          return intent\n",
        "    return 'not_found :('\n",
        "\n",
        "# re-escribir la función  get_intent() para que utilice el modelo \n",
        "def get_intent_by_model(text):\n",
        "  return  model.predict(vectorizer.transform([text]))[0]\n",
        "\n",
        "# ------------------------------------\n",
        "\n",
        "def bot(text):\n",
        "  # intent = get_intent(text)   # cambio por el nuevo get_intent_by_model()\n",
        "  intent = get_intent_by_model(text)\n",
        "  if intent != 'not_found':\n",
        "    return random.choice(BOT_CONFIG['intents'][intent]['responses'])\n",
        "  else:\n",
        "    return  random.choice(BOT_CONFIG['not_found']['responses'])\n",
        " "
      ]
    },
    {
      "cell_type": "code",
      "execution_count": null,
      "metadata": {
        "colab": {
          "base_uri": "https://localhost:8080/"
        },
        "id": "HwlALWPx81WI",
        "outputId": "a3a8681a-6cdb-4b5b-8dad-6e328e5a17b3"
      },
      "outputs": [
        {
          "output_type": "stream",
          "name": "stderr",
          "text": [
            "2022-06-03 01:35:17,307 - apscheduler.scheduler - INFO - Scheduler started\n",
            "2022-06-03 01:48:07,515 - telegram.ext.updater - ERROR - Error while getting Updates: Conflict: terminated by other getUpdates request; make sure that only one bot instance is running\n",
            "2022-06-03 01:48:07,519 - telegram.ext.dispatcher - ERROR - No error handlers are registered, logging exception.\n",
            "Traceback (most recent call last):\n",
            "  File \"/usr/local/lib/python3.7/dist-packages/telegram/ext/updater.py\", line 646, in _network_loop_retry\n",
            "    if not action_cb():\n",
            "  File \"/usr/local/lib/python3.7/dist-packages/telegram/ext/updater.py\", line 601, in polling_action_cb\n",
            "    allowed_updates=allowed_updates,\n",
            "  File \"/usr/local/lib/python3.7/dist-packages/telegram/ext/extbot.py\", line 232, in get_updates\n",
            "    api_kwargs=api_kwargs,\n",
            "  File \"/usr/local/lib/python3.7/dist-packages/telegram/bot.py\", line 133, in decorator\n",
            "    result = func(*args, **kwargs)\n",
            "  File \"/usr/local/lib/python3.7/dist-packages/telegram/bot.py\", line 3061, in get_updates\n",
            "    api_kwargs=api_kwargs,\n",
            "  File \"/usr/local/lib/python3.7/dist-packages/telegram/bot.py\", line 299, in _post\n",
            "    f'{self.base_url}/{endpoint}', data=data, timeout=effective_timeout\n",
            "  File \"/usr/local/lib/python3.7/dist-packages/telegram/utils/request.py\", line 366, in post\n",
            "    **urlopen_kwargs,\n",
            "  File \"/usr/local/lib/python3.7/dist-packages/telegram/utils/request.py\", line 283, in _request_wrapper\n",
            "    raise Conflict(message)\n",
            "telegram.error.Conflict: Conflict: terminated by other getUpdates request; make sure that only one bot instance is running\n",
            "2022-06-03 01:48:12,820 - telegram.ext.updater - ERROR - Error while getting Updates: Conflict: terminated by other getUpdates request; make sure that only one bot instance is running\n",
            "2022-06-03 01:48:12,823 - telegram.ext.dispatcher - ERROR - No error handlers are registered, logging exception.\n",
            "Traceback (most recent call last):\n",
            "  File \"/usr/local/lib/python3.7/dist-packages/telegram/ext/updater.py\", line 646, in _network_loop_retry\n",
            "    if not action_cb():\n",
            "  File \"/usr/local/lib/python3.7/dist-packages/telegram/ext/updater.py\", line 601, in polling_action_cb\n",
            "    allowed_updates=allowed_updates,\n",
            "  File \"/usr/local/lib/python3.7/dist-packages/telegram/ext/extbot.py\", line 232, in get_updates\n",
            "    api_kwargs=api_kwargs,\n",
            "  File \"/usr/local/lib/python3.7/dist-packages/telegram/bot.py\", line 133, in decorator\n",
            "    result = func(*args, **kwargs)\n",
            "  File \"/usr/local/lib/python3.7/dist-packages/telegram/bot.py\", line 3061, in get_updates\n",
            "    api_kwargs=api_kwargs,\n",
            "  File \"/usr/local/lib/python3.7/dist-packages/telegram/bot.py\", line 299, in _post\n",
            "    f'{self.base_url}/{endpoint}', data=data, timeout=effective_timeout\n",
            "  File \"/usr/local/lib/python3.7/dist-packages/telegram/utils/request.py\", line 366, in post\n",
            "    **urlopen_kwargs,\n",
            "  File \"/usr/local/lib/python3.7/dist-packages/telegram/utils/request.py\", line 283, in _request_wrapper\n",
            "    raise Conflict(message)\n",
            "telegram.error.Conflict: Conflict: terminated by other getUpdates request; make sure that only one bot instance is running\n"
          ]
        }
      ],
      "source": [
        "# examples/echobot.py\n",
        "# https://github.com/python-telegram-bot/python-telegram-bot/blob/master/examples/echobot.py\n",
        "\n",
        "import logging\n",
        "from telegram import Update, ForceReply\n",
        "from telegram.ext import Updater, CommandHandler, MessageHandler, Filters, CallbackContext\n",
        "\n",
        "# Enable logging\n",
        "logging.basicConfig(\n",
        "    format='%(asctime)s - %(name)s - %(levelname)s - %(message)s', level=logging.INFO\n",
        ")\n",
        "\n",
        "logger = logging.getLogger(__name__)\n",
        "\n",
        "\n",
        "# Define a few command handlers. These usually take the two arguments update and\n",
        "# context.\n",
        "def start(update: Update, context: CallbackContext) -> None:\n",
        "    \"\"\"Send a message when the command /start is issued.\"\"\"\n",
        "    user = update.effective_user\n",
        "    update.message.reply_markdown_v2(\n",
        "        fr'Hi {user.mention_markdown_v2()}\\!',\n",
        "        reply_markup=ForceReply(selective=True),\n",
        "    )\n",
        "\n",
        "\n",
        "def help_command(update: Update, context: CallbackContext) -> None:\n",
        "    \"\"\"Send a message when the command /help is issued.\"\"\"\n",
        "    update.message.reply_text('Help!')\n",
        "\n",
        "\n",
        "def echo(update: Update, context: CallbackContext) -> None:\n",
        "    \"\"\"Echo the user message.\"\"\"\n",
        "    text = update.message.text   #texto entrante desde el bot de telegram\n",
        "    answer = bot(text)  # respuesta del chatbot\n",
        "    update.message.reply_text(answer)\n",
        "\n",
        "    # update.message.reply_text(update.message.text)\n",
        "\n",
        "\n",
        "def main() -> None:\n",
        "    \"\"\"Start the bot.\"\"\"\n",
        "    # Create the Updater and pass it your bot's token.\n",
        "    updater = Updater(\"5558938015:AAHsvrRZht1sx90rZ-OlLBMmtqoHmLTJfvw\") # toquen generado por telegram \n",
        "\n",
        "    # Get the dispatcher to register handlers\n",
        "    dispatcher = updater.dispatcher\n",
        "\n",
        "    # on different commands - answer in Telegram\n",
        "    dispatcher.add_handler(CommandHandler(\"start\", start))\n",
        "    dispatcher.add_handler(CommandHandler(\"help\", help_command))\n",
        "\n",
        "    # on non command i.e message - echo the message on Telegram\n",
        "    dispatcher.add_handler(MessageHandler(Filters.text & ~Filters.command, echo))\n",
        "\n",
        "    # Start the Bot\n",
        "    updater.start_polling()\n",
        "\n",
        "    # Run the bot until you press Ctrl-C or the process receives SIGINT,\n",
        "    # SIGTERM or SIGABRT. This should be used most of the time, since\n",
        "    # start_polling() is non-blocking and will stop the bot gracefully.\n",
        "    updater.idle()\n",
        "\n",
        "\n",
        "if __name__ == '__main__':\n",
        "    main()"
      ]
    }
  ],
  "metadata": {
    "colab": {
      "collapsed_sections": [],
      "name": "Copia de ChatBot_1_3.ipynb",
      "provenance": [],
      "include_colab_link": true
    },
    "kernelspec": {
      "display_name": "Python 3",
      "name": "python3"
    },
    "language_info": {
      "name": "python"
    }
  },
  "nbformat": 4,
  "nbformat_minor": 0
}